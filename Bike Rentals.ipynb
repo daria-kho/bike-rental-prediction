{
 "cells": [
  {
   "cell_type": "markdown",
   "metadata": {
    "collapsed": true
   },
   "source": [
    "# Predicting Bike Rentals\n",
    "\n",
    "bIn this DataQuest project we will work with the data compiled by Hadi Fanaee-T at the University of Porto. It is available for downloading from [the University of California, Irvine's website](http://archive.ics.uci.edu/ml/datasets/Bike+Sharing+Dataset).\n",
    "\n",
    "Here are the descriptions for the relevant columns:\n",
    "\n",
    "\n",
    "|column|description|\n",
    "|---|---|\n",
    "|instant | A unique sequential ID number for each row|\n",
    "|dteday | The date of the rentals|\n",
    "|season | The season in which the rentals occurred|\n",
    "|yr | The year the rentals occurred|\n",
    "|mnth | The month the rentals occurred|\n",
    "|hr | The hour the rentals occurred|\n",
    "|holiday | Whether or not the day was a holiday|\n",
    "|weekday | The day of the week (as a number, 0 to 7)|\n",
    "|workingday | Whether or not the day was a working day|\n",
    "|weathersit | The weather (as a categorical variable)|\n",
    "|temp | The temperature, on a 0-1 scale|\n",
    "|atemp | The adjusted temperature|\n",
    "|hum | The humidity, on a 0-1 scale|\n",
    "|windspeed | The wind speed, on a 0-1 scale|\n",
    "|casual | The number of casual riders (people who hadn't previously signed up with the bike sharing program)|\n",
    "|registered | The number of registered riders (people who had already signed up)|\n",
    "|cnt | The total number of bike rentals (casual + registered)|\n",
    "\n",
    "\n",
    "In this project, we'll try to predict the total number of bikes people rented in a given hour. We'll predict the `cnt` column using all of the other columns, except for `casual` and `registered`. To accomplish this, we'll create a few different machine learning models and evaluate their performance."
   ]
  },
  {
   "cell_type": "code",
   "execution_count": 15,
   "metadata": {
    "collapsed": true
   },
   "outputs": [],
   "source": [
    "import pandas as pd\n",
    "import numpy as np\n",
    "import matplotlib.pyplot as plt\n",
    "%matplotlib inline\n",
    "import seaborn as sns"
   ]
  },
  {
   "cell_type": "code",
   "execution_count": 3,
   "metadata": {
    "collapsed": false
   },
   "outputs": [
    {
     "data": {
      "text/html": [
       "<div>\n",
       "<style scoped>\n",
       "    .dataframe tbody tr th:only-of-type {\n",
       "        vertical-align: middle;\n",
       "    }\n",
       "\n",
       "    .dataframe tbody tr th {\n",
       "        vertical-align: top;\n",
       "    }\n",
       "\n",
       "    .dataframe thead th {\n",
       "        text-align: right;\n",
       "    }\n",
       "</style>\n",
       "<table border=\"1\" class=\"dataframe\">\n",
       "  <thead>\n",
       "    <tr style=\"text-align: right;\">\n",
       "      <th></th>\n",
       "      <th>instant</th>\n",
       "      <th>dteday</th>\n",
       "      <th>season</th>\n",
       "      <th>yr</th>\n",
       "      <th>mnth</th>\n",
       "      <th>hr</th>\n",
       "      <th>holiday</th>\n",
       "      <th>weekday</th>\n",
       "      <th>workingday</th>\n",
       "      <th>weathersit</th>\n",
       "      <th>temp</th>\n",
       "      <th>atemp</th>\n",
       "      <th>hum</th>\n",
       "      <th>windspeed</th>\n",
       "      <th>casual</th>\n",
       "      <th>registered</th>\n",
       "      <th>cnt</th>\n",
       "    </tr>\n",
       "  </thead>\n",
       "  <tbody>\n",
       "    <tr>\n",
       "      <th>0</th>\n",
       "      <td>1</td>\n",
       "      <td>2011-01-01</td>\n",
       "      <td>1</td>\n",
       "      <td>0</td>\n",
       "      <td>1</td>\n",
       "      <td>0</td>\n",
       "      <td>0</td>\n",
       "      <td>6</td>\n",
       "      <td>0</td>\n",
       "      <td>1</td>\n",
       "      <td>0.24</td>\n",
       "      <td>0.2879</td>\n",
       "      <td>0.81</td>\n",
       "      <td>0.0</td>\n",
       "      <td>3</td>\n",
       "      <td>13</td>\n",
       "      <td>16</td>\n",
       "    </tr>\n",
       "    <tr>\n",
       "      <th>1</th>\n",
       "      <td>2</td>\n",
       "      <td>2011-01-01</td>\n",
       "      <td>1</td>\n",
       "      <td>0</td>\n",
       "      <td>1</td>\n",
       "      <td>1</td>\n",
       "      <td>0</td>\n",
       "      <td>6</td>\n",
       "      <td>0</td>\n",
       "      <td>1</td>\n",
       "      <td>0.22</td>\n",
       "      <td>0.2727</td>\n",
       "      <td>0.80</td>\n",
       "      <td>0.0</td>\n",
       "      <td>8</td>\n",
       "      <td>32</td>\n",
       "      <td>40</td>\n",
       "    </tr>\n",
       "    <tr>\n",
       "      <th>2</th>\n",
       "      <td>3</td>\n",
       "      <td>2011-01-01</td>\n",
       "      <td>1</td>\n",
       "      <td>0</td>\n",
       "      <td>1</td>\n",
       "      <td>2</td>\n",
       "      <td>0</td>\n",
       "      <td>6</td>\n",
       "      <td>0</td>\n",
       "      <td>1</td>\n",
       "      <td>0.22</td>\n",
       "      <td>0.2727</td>\n",
       "      <td>0.80</td>\n",
       "      <td>0.0</td>\n",
       "      <td>5</td>\n",
       "      <td>27</td>\n",
       "      <td>32</td>\n",
       "    </tr>\n",
       "    <tr>\n",
       "      <th>3</th>\n",
       "      <td>4</td>\n",
       "      <td>2011-01-01</td>\n",
       "      <td>1</td>\n",
       "      <td>0</td>\n",
       "      <td>1</td>\n",
       "      <td>3</td>\n",
       "      <td>0</td>\n",
       "      <td>6</td>\n",
       "      <td>0</td>\n",
       "      <td>1</td>\n",
       "      <td>0.24</td>\n",
       "      <td>0.2879</td>\n",
       "      <td>0.75</td>\n",
       "      <td>0.0</td>\n",
       "      <td>3</td>\n",
       "      <td>10</td>\n",
       "      <td>13</td>\n",
       "    </tr>\n",
       "    <tr>\n",
       "      <th>4</th>\n",
       "      <td>5</td>\n",
       "      <td>2011-01-01</td>\n",
       "      <td>1</td>\n",
       "      <td>0</td>\n",
       "      <td>1</td>\n",
       "      <td>4</td>\n",
       "      <td>0</td>\n",
       "      <td>6</td>\n",
       "      <td>0</td>\n",
       "      <td>1</td>\n",
       "      <td>0.24</td>\n",
       "      <td>0.2879</td>\n",
       "      <td>0.75</td>\n",
       "      <td>0.0</td>\n",
       "      <td>0</td>\n",
       "      <td>1</td>\n",
       "      <td>1</td>\n",
       "    </tr>\n",
       "  </tbody>\n",
       "</table>\n",
       "</div>"
      ],
      "text/plain": [
       "   instant      dteday  season  yr  mnth  hr  holiday  weekday  workingday  \\\n",
       "0        1  2011-01-01       1   0     1   0        0        6           0   \n",
       "1        2  2011-01-01       1   0     1   1        0        6           0   \n",
       "2        3  2011-01-01       1   0     1   2        0        6           0   \n",
       "3        4  2011-01-01       1   0     1   3        0        6           0   \n",
       "4        5  2011-01-01       1   0     1   4        0        6           0   \n",
       "\n",
       "   weathersit  temp   atemp   hum  windspeed  casual  registered  cnt  \n",
       "0           1  0.24  0.2879  0.81        0.0       3          13   16  \n",
       "1           1  0.22  0.2727  0.80        0.0       8          32   40  \n",
       "2           1  0.22  0.2727  0.80        0.0       5          27   32  \n",
       "3           1  0.24  0.2879  0.75        0.0       3          10   13  \n",
       "4           1  0.24  0.2879  0.75        0.0       0           1    1  "
      ]
     },
     "execution_count": 3,
     "metadata": {},
     "output_type": "execute_result"
    }
   ],
   "source": [
    "bike_rentals = pd.read_csv('bike_rental_hour.csv')\n",
    "bike_rentals.head()"
   ]
  },
  {
   "cell_type": "code",
   "execution_count": 4,
   "metadata": {
    "collapsed": false
   },
   "outputs": [
    {
     "data": {
      "image/png": "[encoded data removed]",
      "text/plain": [
       "<Figure size 432x288 with 1 Axes>"
      ]
     },
     "metadata": {
      "needs_background": "light"
     },
     "output_type": "display_data"
    }
   ],
   "source": [
    "plt.hist(bike_rentals['cnt'])\n",
    "plt.title('Distribution of values in cnt column')\n",
    "plt.show()"
   ]
  },
  {
   "cell_type": "code",
   "execution_count": 21,
   "metadata": {},
   "outputs": [
    {
     "data": {
      "text/plain": [
       "count    17379.000000\n",
       "mean       189.463088\n",
       "std        181.387599\n",
       "min          1.000000\n",
       "25%         40.000000\n",
       "50%        142.000000\n",
       "75%        281.000000\n",
       "max        977.000000\n",
       "Name: cnt, dtype: float64"
      ]
     },
     "execution_count": 21,
     "metadata": {},
     "output_type": "execute_result"
    }
   ],
   "source": [
    "bike_rentals['cnt'].describe()"
   ]
  },
  {
   "cell_type": "markdown",
   "metadata": {},
   "source": [
    "The distribution of values in our target column in continuous, so we are predicting real values, not labels. This means we will need to use a regression algorithm, and not classification. The best recommended metric to measure the preformance of regressors are MSE or RMSE. We will use RMSE as it is easier to interpret."
   ]
  },
  {
   "cell_type": "markdown",
   "metadata": {},
   "source": [
    "## Feature Engineering\n",
    "\n",
    "The `hr` column now shows time in 0-24 format. We will convert it into categories from morning(1), afternoon(2), evening(3) and night-time(4) to better represent the time perceived by humans (who rent bikes) and use the new column instead."
   ]
  },
  {
   "cell_type": "code",
   "execution_count": 6,
   "metadata": {
    "collapsed": true
   },
   "outputs": [],
   "source": [
    "def assign_label(value):\n",
    "    if value >= 6 and value < 12:\n",
    "        return 1\n",
    "    elif value >= 12 and value < 18:\n",
    "        return 2\n",
    "    elif value >= 18 and value < 24:\n",
    "        return 3\n",
    "    elif value >= 0 and value < 6:\n",
    "        return 4\n",
    "\n",
    "bike_rentals['time_label'] = bike_rentals['hr'].apply(assign_label)"
   ]
  },
  {
   "cell_type": "markdown",
   "metadata": {},
   "source": [
    "Let us now choose other features that we will use to predict the amount of bike rentals in `cnt` column. First, we will exclude `casual` and `registered` columns, because `cnt` is their sum. Besides, we will remove `dtday` column because we will not account for exact date in our predictions, and `temp` column and leave only `atemp`. "
   ]
  },
  {
   "cell_type": "code",
   "execution_count": 39,
   "metadata": {},
   "outputs": [],
   "source": [
    "bike_rentals_clean = bike_rentals.drop(['casual', 'registered', 'dteday', 'hr', 'temp'], axis=1)"
   ]
  },
  {
   "cell_type": "code",
   "execution_count": 40,
   "metadata": {
    "collapsed": false
   },
   "outputs": [
    {
     "data": {
      "text/plain": [
       "<AxesSubplot:>"
      ]
     },
     "execution_count": 40,
     "metadata": {},
     "output_type": "execute_result"
    },
    {
     "data": {
      "image/png": "[encoded data removed]",
      "text/plain": [
       "<Figure size 864x720 with 2 Axes>"
      ]
     },
     "metadata": {
      "needs_background": "light"
     },
     "output_type": "display_data"
    }
   ],
   "source": [
    "corrs = bike_rentals_clean.corr()\n",
    "fig, ax = plt.subplots(figsize=(12,10))  \n",
    "sns.heatmap(corrs, cmap=\"YlGnBu\",annot=True, fmt= \".1f\", ax=ax)"
   ]
  },
  {
   "cell_type": "code",
   "execution_count": 41,
   "metadata": {},
   "outputs": [
    {
     "data": {
      "text/plain": [
       "cnt           1.000000\n",
       "atemp         0.400929\n",
       "time_label    0.378318\n",
       "hum           0.322911\n",
       "instant       0.278379\n",
       "yr            0.250495\n",
       "season        0.178056\n",
       "weathersit    0.142426\n",
       "mnth          0.120638\n",
       "windspeed     0.093234\n",
       "holiday       0.030927\n",
       "workingday    0.030284\n",
       "weekday       0.026900\n",
       "Name: cnt, dtype: float64"
      ]
     },
     "execution_count": 41,
     "metadata": {},
     "output_type": "execute_result"
    }
   ],
   "source": [
    "cnt_corrs = abs(corrs['cnt']).sort_values(ascending=False)\n",
    "cnt_corrs"
   ]
  },
  {
   "cell_type": "code",
   "execution_count": null,
   "metadata": {},
   "outputs": [],
   "source": []
  },
  {
   "cell_type": "markdown",
   "metadata": {},
   "source": [
    "We will use the rest of the columns as features for our model and proceed to randomize the dataset and allocate 80% of the dataset to training and 20% to testing."
   ]
  },
  {
   "cell_type": "code",
   "execution_count": 31,
   "metadata": {},
   "outputs": [],
   "source": [
    "features = ['season', 'yr', 'mnth', 'holiday', 'weekday', 'workingday', 'weathersit', 'atemp', 'hum', 'windspeed', 'time_label']\n",
    "target = 'cnt'\n",
    "train = bike_rentals.sample(frac=0.8, random_state=1)\n",
    "test = bike_rentals.loc[~bike_rentals.index.isin(train.index)]"
   ]
  },
  {
   "cell_type": "markdown",
   "metadata": {},
   "source": [
    "## Training and Testing\n",
    "### Linear regression model"
   ]
  },
  {
   "cell_type": "code",
   "execution_count": 32,
   "metadata": {},
   "outputs": [
    {
     "name": "stdout",
     "output_type": "stream",
     "text": [
      "Linear regression error: 137.30670497479272\n"
     ]
    }
   ],
   "source": [
    "from sklearn.linear_model import LinearRegression\n",
    "from sklearn.metrics import mean_squared_error\n",
    "\n",
    "lr = LinearRegression()\n",
    "lr.fit(train[features], train[target])\n",
    "lr_predictions = lr.predict(test[features])\n",
    "lr_rmse = np.sqrt(mean_squared_error(test[target], lr_predictions))\n",
    "print(\"Linear regression error:\", lr_rmse)"
   ]
  },
  {
   "cell_type": "markdown",
   "metadata": {},
   "source": [
    "### Decision Tree Regressor model"
   ]
  },
  {
   "cell_type": "code",
   "execution_count": 33,
   "metadata": {},
   "outputs": [
    {
     "name": "stdout",
     "output_type": "stream",
     "text": [
      "Decision Tree error:  144.709319642985\n"
     ]
    }
   ],
   "source": [
    "from sklearn.tree import DecisionTreeRegressor\n",
    "\n",
    "dt = DecisionTreeRegressor()\n",
    "dt.fit(train[features], train[target])\n",
    "dt_predictions = dt.predict(test[features])\n",
    "dt_rmse = np.sqrt(mean_squared_error(test[target], dt_predictions))\n",
    "print(\"Decision Tree error: \", dt_rmse)"
   ]
  },
  {
   "cell_type": "markdown",
   "metadata": {},
   "source": [
    "The model performed worse than the simple Linear regression. Most probably due to overfitting, as we haven't adjusted any parameters that could reduce it. "
   ]
  },
  {
   "cell_type": "markdown",
   "metadata": {},
   "source": [
    "### Random Forest Regressor model"
   ]
  },
  {
   "cell_type": "code",
   "execution_count": 34,
   "metadata": {},
   "outputs": [
    {
     "name": "stdout",
     "output_type": "stream",
     "text": [
      "Random Forest error:  108.58092458464348\n"
     ]
    }
   ],
   "source": [
    "from sklearn.ensemble import RandomForestRegressor\n",
    "\n",
    "rf = RandomForestRegressor()\n",
    "rf.fit(train[features], train[target])\n",
    "rf_predictions = rf.predict(test[features])\n",
    "rf_rmse = np.sqrt(mean_squared_error(test[target], rf_predictions))\n",
    "print(\"Random Forest error: \", rf_rmse)"
   ]
  },
  {
   "cell_type": "markdown",
   "metadata": {},
   "source": [
    "Random Forest gave much better result than Linear Regression or Decision Tree. Still, the model errs by 108 bike rentals per instance, which is more than 75% for half of our records. \n",
    "\n",
    "We will now tweak it's parameters to see if we can further improve the performance. Using Randomized Search algorithm with 3 fold cross validation (cv=1), search across 100 different combinations (n_iter=100), and all available processing cores (n_jobs=-1), we will experiment with \n",
    "- `min_samples_leaf` which is the minimum number of samples required to be at a leaf node, \n",
    "- `n_estimators` which is the amount of trees the algorithm creates, \n",
    "- `max_depth` which is the maximum amount of levels in each tree, and \n",
    "- `min_samples_split`, the minimum number of data points placed in a node before the node is split."
   ]
  },
  {
   "cell_type": "code",
   "execution_count": 24,
   "metadata": {},
   "outputs": [
    {
     "name": "stdout",
     "output_type": "stream",
     "text": [
      "{'n_estimators': 150, 'min_samples_split': 2, 'min_samples_leaf': 4, 'max_depth': 70}\n",
      "Random Forest with grid search error:  107.45392850848317\n"
     ]
    }
   ],
   "source": [
    "random_grid = {\n",
    "\"min_samples_leaf\": [1, 2, 4],\n",
    "\"min_samples_split\": [2, 5, 10],\n",
    "\"n_estimators\" : [50, 100, 150, 200, 300, 400, 500, 1000],\n",
    "\"max_depth\" : [10, 20, 30, 40, 50, 60, 70, 80, 90, 100, None]\n",
    "}\n",
    "\n",
    "from sklearn.model_selection import RandomizedSearchCV\n",
    "random_rf = RandomizedSearchCV(estimator = rf, param_distributions = random_grid, n_iter = 100, cv = 3, random_state=1, n_jobs = -1)\n",
    "random_rf.fit(train[features], train[target])\n",
    "print(random_rf.best_params_)\n",
    "random_rf_predictions = random_rf.predict(test[features])\n",
    "random_rf_rmse = np.sqrt(mean_squared_error(test[target], random_rf_predictions))\n",
    "print(\"Random Forest with grid search error: \", random_rf_rmse)"
   ]
  },
  {
   "cell_type": "markdown",
   "metadata": {},
   "source": [
    "We now will try searching for better feature combination."
   ]
  },
  {
   "cell_type": "code",
   "execution_count": 45,
   "metadata": {},
   "outputs": [
    {
     "name": "stdout",
     "output_type": "stream",
     "text": [
      "Root square error with ['atemp'] features:  160.4239131010993\n",
      "Root square error with ['atemp', 'time_label'] features:  131.0893560226787\n",
      "Root square error with ['atemp', 'time_label', 'hum'] features:  127.99017347818868\n",
      "Root square error with ['atemp', 'time_label', 'hum', 'instant'] features:  111.45221333109455\n",
      "Root square error with ['atemp', 'time_label', 'hum', 'instant', 'yr'] features:  111.46580457801164\n",
      "Root square error with ['atemp', 'time_label', 'hum', 'instant', 'yr', 'season'] features:  111.55997669839566\n",
      "Root square error with ['atemp', 'time_label', 'hum', 'instant', 'yr', 'season', 'weathersit'] features:  111.5899142793415\n",
      "Root square error with ['atemp', 'time_label', 'hum', 'instant', 'yr', 'season', 'weathersit', 'mnth'] features:  111.81381744372513\n",
      "Root square error with ['atemp', 'time_label', 'hum', 'instant', 'yr', 'season', 'weathersit', 'mnth', 'windspeed'] features:  111.48884241573074\n",
      "Root square error with ['atemp', 'time_label', 'hum', 'instant', 'yr', 'season', 'weathersit', 'mnth', 'windspeed', 'holiday'] features:  111.39368827006717\n",
      "Root square error with ['atemp', 'time_label', 'hum', 'instant', 'yr', 'season', 'weathersit', 'mnth', 'windspeed', 'holiday', 'workingday'] features:  106.35382040716732\n",
      "Root square error with ['atemp', 'time_label', 'hum', 'instant', 'yr', 'season', 'weathersit', 'mnth', 'windspeed', 'holiday', 'workingday', 'weekday'] features:  106.04613889174178\n"
     ]
    }
   ],
   "source": [
    "sorted_features = list(cnt_corrs[1:].index)\n",
    "\n",
    "for i in range(1,13):\n",
    "    loop_features = sorted_features[:i]\n",
    "    loop_rf = RandomForestRegressor(n_estimators=150, min_samples_split=2,min_samples_leaf=4, max_depth=70)\n",
    "    loop_rf.fit(train[loop_features], train[target])\n",
    "    loop_predictions = loop_rf.predict(test[loop_features])\n",
    "    loop_rmse = np.sqrt(mean_squared_error(test[target], loop_predictions))\n",
    "    print(\"Root square error with {} features: \".format(loop_features), loop_rmse)\n"
   ]
  },
  {
   "cell_type": "markdown",
   "metadata": {},
   "source": [
    "It seems that using all the features was already the best combination of features. What else can we try?\n",
    "- calculate additional features, such as an index combining temperature, humidity, and wind speed,\n",
    "- Predict `casual` and `registered` instead of `cnt`."
   ]
  }
 ],
 "metadata": {
  "kernelspec": {
   "display_name": "Python 3",
   "language": "python",
   "name": "python3"
  },
  "language_info": {
   "codemirror_mode": {
    "name": "ipython",
    "version": 3
   },
   "file_extension": ".py",
   "mimetype": "text/x-python",
   "name": "python",
   "nbconvert_exporter": "python",
   "pygments_lexer": "ipython3",
   "version": "3.9.7"
  }
 },
 "nbformat": 4,
 "nbformat_minor": 0
}
